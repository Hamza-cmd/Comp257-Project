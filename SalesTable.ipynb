{
 "cells": [
  {
   "cell_type": "markdown",
   "metadata": {},
   "source": [
    "Sales Table for Project Comp257"
   ]
  },
  {
   "cell_type": "code",
   "execution_count": 3,
   "metadata": {},
   "outputs": [],
   "source": [
    "import pandas as pd\n",
    "from matplotlib import pyplot as plt\n",
    "from datetime import timedelta\n",
    "import seaborn as sns\n",
    "plt.style.use('seaborn')\n",
    "%matplotlib inline"
   ]
  },
  {
   "cell_type": "code",
   "execution_count": 4,
   "metadata": {},
   "outputs": [],
   "source": [
    "LGA = pd.read_excel('data/Sales-Tables-clean.xlsx', sheet_name= 1)"
   ]
  },
  {
   "cell_type": "code",
   "execution_count": 5,
   "metadata": {},
   "outputs": [],
   "source": [
    "postcode = pd.read_excel('data/Sales-Tables-clean-Mar-Quarter-2018.xlsx', sheet_name=2)"
   ]
  },
  {
   "cell_type": "code",
   "execution_count": 6,
   "metadata": {},
   "outputs": [
    {
     "data": {
      "text/plain": [
       "(2747, 14)"
      ]
     },
     "execution_count": 6,
     "metadata": {},
     "output_type": "execute_result"
    }
   ],
   "source": [
    "LGA.shape"
   ]
  },
  {
   "cell_type": "code",
   "execution_count": 7,
   "metadata": {},
   "outputs": [
    {
     "data": {
      "text/plain": [
       "(1332, 11)"
      ]
     },
     "execution_count": 7,
     "metadata": {},
     "output_type": "execute_result"
    }
   ],
   "source": [
    "postcode.shape"
   ]
  },
  {
   "cell_type": "code",
   "execution_count": 36,
   "metadata": {},
   "outputs": [],
   "source": [
    "LGA.replace(to_replace=\"s\",value=\"\",inplace=True)"
   ]
  },
  {
   "cell_type": "code",
   "execution_count": 37,
   "metadata": {},
   "outputs": [
    {
     "data": {
      "text/html": [
       "<div>\n",
       "<style scoped>\n",
       "    .dataframe tbody tr th:only-of-type {\n",
       "        vertical-align: middle;\n",
       "    }\n",
       "\n",
       "    .dataframe tbody tr th {\n",
       "        vertical-align: top;\n",
       "    }\n",
       "\n",
       "    .dataframe thead th {\n",
       "        text-align: right;\n",
       "    }\n",
       "</style>\n",
       "<table border=\"1\" class=\"dataframe\">\n",
       "  <thead>\n",
       "    <tr style=\"text-align: right;\">\n",
       "      <th></th>\n",
       "      <th>GMR (Greater Metropolitan Region)</th>\n",
       "      <th>Greater Sydney</th>\n",
       "      <th>Rings</th>\n",
       "      <th>Local Government Areas (LGAs)</th>\n",
       "      <th>DwellingType</th>\n",
       "      <th>First Quartile Sales Price\n",
       "$'000s</th>\n",
       "      <th>Median Sales Price\n",
       "$'000s</th>\n",
       "      <th>Third Quartile Sales Price\n",
       "'000s</th>\n",
       "      <th>Mean Sales Price\n",
       "$'000s</th>\n",
       "      <th>Sales\n",
       "No.</th>\n",
       "      <th>Qtly change in Median</th>\n",
       "      <th>Annual change in Median</th>\n",
       "      <th>Qtly change in Count</th>\n",
       "      <th>Annual change in Count</th>\n",
       "    </tr>\n",
       "  </thead>\n",
       "  <tbody>\n",
       "    <tr>\n",
       "      <th>0</th>\n",
       "      <td>Total</td>\n",
       "      <td>Total</td>\n",
       "      <td>Total</td>\n",
       "      <td>Total</td>\n",
       "      <td>Total</td>\n",
       "      <td>455.0</td>\n",
       "      <td>635.0</td>\n",
       "      <td>870.0</td>\n",
       "      <td>764.0</td>\n",
       "      <td>19558.0</td>\n",
       "      <td>-0.0231</td>\n",
       "      <td>-0.0508</td>\n",
       "      <td>-0.2309</td>\n",
       "      <td>-0.3087</td>\n",
       "    </tr>\n",
       "    <tr>\n",
       "      <th>1</th>\n",
       "      <td>Total</td>\n",
       "      <td>Total</td>\n",
       "      <td>Total</td>\n",
       "      <td>Total</td>\n",
       "      <td>Non Strata</td>\n",
       "      <td>440.0</td>\n",
       "      <td>630.0</td>\n",
       "      <td>895.0</td>\n",
       "      <td>779.0</td>\n",
       "      <td>13598.0</td>\n",
       "      <td>-0.0308</td>\n",
       "      <td>-0.0526</td>\n",
       "      <td>-0.2330</td>\n",
       "      <td>-0.2873</td>\n",
       "    </tr>\n",
       "    <tr>\n",
       "      <th>2</th>\n",
       "      <td>Total</td>\n",
       "      <td>Total</td>\n",
       "      <td>Total</td>\n",
       "      <td>Total</td>\n",
       "      <td>Strata</td>\n",
       "      <td>485.0</td>\n",
       "      <td>640.0</td>\n",
       "      <td>830.0</td>\n",
       "      <td>730.0</td>\n",
       "      <td>5960.0</td>\n",
       "      <td>-0.0303</td>\n",
       "      <td>-0.0448</td>\n",
       "      <td>-0.2262</td>\n",
       "      <td>-0.3530</td>\n",
       "    </tr>\n",
       "    <tr>\n",
       "      <th>3</th>\n",
       "      <td>Total</td>\n",
       "      <td>Total</td>\n",
       "      <td>Total</td>\n",
       "      <td>Albury</td>\n",
       "      <td>Total</td>\n",
       "      <td>240.0</td>\n",
       "      <td>320.0</td>\n",
       "      <td>415.0</td>\n",
       "      <td>340.0</td>\n",
       "      <td>198.0</td>\n",
       "      <td>0.0492</td>\n",
       "      <td>0.0492</td>\n",
       "      <td>-0.2414</td>\n",
       "      <td>-0.2747</td>\n",
       "    </tr>\n",
       "    <tr>\n",
       "      <th>4</th>\n",
       "      <td>Total</td>\n",
       "      <td>Total</td>\n",
       "      <td>Total</td>\n",
       "      <td>Albury</td>\n",
       "      <td>Non Strata</td>\n",
       "      <td>260.0</td>\n",
       "      <td>352.0</td>\n",
       "      <td>438.0</td>\n",
       "      <td>370.0</td>\n",
       "      <td>162.0</td>\n",
       "      <td>-0.0154</td>\n",
       "      <td>0.0430</td>\n",
       "      <td>-0.2430</td>\n",
       "      <td>-0.2249</td>\n",
       "    </tr>\n",
       "    <tr>\n",
       "      <th>5</th>\n",
       "      <td>Total</td>\n",
       "      <td>Total</td>\n",
       "      <td>Total</td>\n",
       "      <td>Albury</td>\n",
       "      <td>Strata</td>\n",
       "      <td>156.0</td>\n",
       "      <td>212.0</td>\n",
       "      <td>240.0</td>\n",
       "      <td>205.0</td>\n",
       "      <td>36.0</td>\n",
       "      <td>0.0012</td>\n",
       "      <td>-0.0128</td>\n",
       "      <td>-0.2340</td>\n",
       "      <td>-0.4375</td>\n",
       "    </tr>\n",
       "    <tr>\n",
       "      <th>6</th>\n",
       "      <td>Total</td>\n",
       "      <td>Total</td>\n",
       "      <td>Total</td>\n",
       "      <td>Armidale Regional</td>\n",
       "      <td>Total</td>\n",
       "      <td>265.0</td>\n",
       "      <td>350.0</td>\n",
       "      <td>459.0</td>\n",
       "      <td>355.0</td>\n",
       "      <td>87.0</td>\n",
       "      <td>0.0072</td>\n",
       "      <td>0.0145</td>\n",
       "      <td>-0.3256</td>\n",
       "      <td>-0.3308</td>\n",
       "    </tr>\n",
       "    <tr>\n",
       "      <th>7</th>\n",
       "      <td>Total</td>\n",
       "      <td>Total</td>\n",
       "      <td>Total</td>\n",
       "      <td>Armidale Regional</td>\n",
       "      <td>Non Strata</td>\n",
       "      <td>266.0</td>\n",
       "      <td>360.0</td>\n",
       "      <td>461.0</td>\n",
       "      <td>362.0</td>\n",
       "      <td>80.0</td>\n",
       "      <td>0.0141</td>\n",
       "      <td>0.0286</td>\n",
       "      <td>-0.3103</td>\n",
       "      <td>-0.3333</td>\n",
       "    </tr>\n",
       "    <tr>\n",
       "      <th>8</th>\n",
       "      <td>Total</td>\n",
       "      <td>Total</td>\n",
       "      <td>Total</td>\n",
       "      <td>Armidale Regional</td>\n",
       "      <td>Strata</td>\n",
       "      <td>NaN</td>\n",
       "      <td>NaN</td>\n",
       "      <td>NaN</td>\n",
       "      <td>NaN</td>\n",
       "      <td>NaN</td>\n",
       "      <td>NaN</td>\n",
       "      <td>NaN</td>\n",
       "      <td>NaN</td>\n",
       "      <td>NaN</td>\n",
       "    </tr>\n",
       "    <tr>\n",
       "      <th>9</th>\n",
       "      <td>Total</td>\n",
       "      <td>Total</td>\n",
       "      <td>Total</td>\n",
       "      <td>Ballina</td>\n",
       "      <td>Total</td>\n",
       "      <td>500.0</td>\n",
       "      <td>577.0</td>\n",
       "      <td>730.0</td>\n",
       "      <td>635.0</td>\n",
       "      <td>116.0</td>\n",
       "      <td>-0.0580</td>\n",
       "      <td>-0.0738</td>\n",
       "      <td>-0.3626</td>\n",
       "      <td>-0.3895</td>\n",
       "    </tr>\n",
       "  </tbody>\n",
       "</table>\n",
       "</div>"
      ],
      "text/plain": [
       "  GMR (Greater Metropolitan Region) Greater Sydney  Rings  \\\n",
       "0                             Total          Total  Total   \n",
       "1                             Total          Total  Total   \n",
       "2                             Total          Total  Total   \n",
       "3                             Total          Total  Total   \n",
       "4                             Total          Total  Total   \n",
       "5                             Total          Total  Total   \n",
       "6                             Total          Total  Total   \n",
       "7                             Total          Total  Total   \n",
       "8                             Total          Total  Total   \n",
       "9                             Total          Total  Total   \n",
       "\n",
       "  Local Government Areas (LGAs) DwellingType  \\\n",
       "0                         Total        Total   \n",
       "1                         Total   Non Strata   \n",
       "2                         Total       Strata   \n",
       "3                        Albury        Total   \n",
       "4                        Albury   Non Strata   \n",
       "5                        Albury       Strata   \n",
       "6             Armidale Regional        Total   \n",
       "7             Armidale Regional   Non Strata   \n",
       "8             Armidale Regional       Strata   \n",
       "9                       Ballina        Total   \n",
       "\n",
       "   First Quartile Sales Price\\n$'000s  Median Sales Price\\n$'000s  \\\n",
       "0                               455.0                       635.0   \n",
       "1                               440.0                       630.0   \n",
       "2                               485.0                       640.0   \n",
       "3                               240.0                       320.0   \n",
       "4                               260.0                       352.0   \n",
       "5                               156.0                       212.0   \n",
       "6                               265.0                       350.0   \n",
       "7                               266.0                       360.0   \n",
       "8                                 NaN                         NaN   \n",
       "9                               500.0                       577.0   \n",
       "\n",
       "   Third Quartile Sales Price\\n'000s  Mean Sales Price\\n$'000s  Sales\\nNo.  \\\n",
       "0                              870.0                     764.0     19558.0   \n",
       "1                              895.0                     779.0     13598.0   \n",
       "2                              830.0                     730.0      5960.0   \n",
       "3                              415.0                     340.0       198.0   \n",
       "4                              438.0                     370.0       162.0   \n",
       "5                              240.0                     205.0        36.0   \n",
       "6                              459.0                     355.0        87.0   \n",
       "7                              461.0                     362.0        80.0   \n",
       "8                                NaN                       NaN         NaN   \n",
       "9                              730.0                     635.0       116.0   \n",
       "\n",
       "   Qtly change in Median  Annual change in Median  Qtly change in Count  \\\n",
       "0                -0.0231                  -0.0508               -0.2309   \n",
       "1                -0.0308                  -0.0526               -0.2330   \n",
       "2                -0.0303                  -0.0448               -0.2262   \n",
       "3                 0.0492                   0.0492               -0.2414   \n",
       "4                -0.0154                   0.0430               -0.2430   \n",
       "5                 0.0012                  -0.0128               -0.2340   \n",
       "6                 0.0072                   0.0145               -0.3256   \n",
       "7                 0.0141                   0.0286               -0.3103   \n",
       "8                    NaN                      NaN                   NaN   \n",
       "9                -0.0580                  -0.0738               -0.3626   \n",
       "\n",
       "   Annual change in Count  \n",
       "0                 -0.3087  \n",
       "1                 -0.2873  \n",
       "2                 -0.3530  \n",
       "3                 -0.2747  \n",
       "4                 -0.2249  \n",
       "5                 -0.4375  \n",
       "6                 -0.3308  \n",
       "7                 -0.3333  \n",
       "8                     NaN  \n",
       "9                 -0.3895  "
      ]
     },
     "execution_count": 37,
     "metadata": {},
     "output_type": "execute_result"
    }
   ],
   "source": [
    "LGA.head(10)"
   ]
  },
  {
   "cell_type": "code",
   "execution_count": 9,
   "metadata": {},
   "outputs": [
    {
     "data": {
      "text/plain": [
       "GMR (Greater Metropolitan Region)      object\n",
       "Greater Sydney                         object\n",
       "Rings                                  object\n",
       "Local Government Areas (LGAs)          object\n",
       "DwellingType                           object\n",
       "First Quartile Sales Price\\n$'000s    float64\n",
       "Median Sales Price\\n$'000s            float64\n",
       "Third Quartile Sales Price\\n'000s     float64\n",
       "Mean Sales Price\\n$'000s              float64\n",
       "Sales\\nNo.                            float64\n",
       "Qtly change in Median                 float64\n",
       "Annual change in Median               float64\n",
       "Qtly change in Count                  float64\n",
       "Annual change in Count                float64\n",
       "dtype: object"
      ]
     },
     "execution_count": 9,
     "metadata": {},
     "output_type": "execute_result"
    }
   ],
   "source": [
    "LGA.dtypes"
   ]
  },
  {
   "cell_type": "code",
   "execution_count": 38,
   "metadata": {},
   "outputs": [
    {
     "data": {
      "text/plain": [
       "Index(['GMR (Greater Metropolitan Region)', 'Greater Sydney', 'Rings',\n",
       "       'Local Government Areas (LGAs)', 'DwellingType',\n",
       "       'First Quartile Sales Price\\n$'000s', 'Median Sales Price\\n$'000s',\n",
       "       'Third Quartile Sales Price\\n'000s', 'Mean Sales Price\\n$'000s',\n",
       "       'Sales\\nNo.', 'Qtly change in Median', 'Annual change in Median',\n",
       "       'Qtly change in Count', 'Annual change in Count'],\n",
       "      dtype='object')"
      ]
     },
     "execution_count": 38,
     "metadata": {},
     "output_type": "execute_result"
    }
   ],
   "source": [
    "LGA.columns"
   ]
  },
  {
   "cell_type": "markdown",
   "metadata": {},
   "source": [
    "We have just checked the column titles for the LGA dataframe and now we are changing the name of the columns so it is easier in our analysis process"
   ]
  },
  {
   "cell_type": "code",
   "execution_count": 40,
   "metadata": {},
   "outputs": [],
   "source": [
    "LGA.rename(columns={'GMR (Greater Metropolitan Region)':'GMR',\n",
    "                    'Greater Sydney':'Greater_Sydney',\n",
    "                    'Local Government Areas (LGAs)':'LGA',\n",
    "                    'Dwelling Types':'Dwelling_Types',\n",
    "                    'First Quartile Sales Price $000s':'First_Quartile_Sales_thousands',\n",
    "                    'Median Sales Price $000s':'Median_Sales_Price_thousands',\n",
    "                    'Third Quartile Sales Price $000s':'Third_Quartile_Sales_thousands',\n",
    "                    'Mean Sales Price $000s':'Mean_Sales_Price_in_thousands',\n",
    "                    'Sales No.':'Sales_No',\n",
    "                    'Qtly change in Median':'Qtly_change_median',\n",
    "                    'Annual change in Median':'Annual_change_median',\n",
    "                    'Qtly change in Count':'Qtly_change_Count',\n",
    "                    'Annual change in Count':'Annual_change_Count'},\n",
    "           inplace=True)"
   ]
  },
  {
   "cell_type": "code",
   "execution_count": 13,
   "metadata": {},
   "outputs": [
    {
     "data": {
      "text/plain": [
       "<matplotlib.axes._subplots.AxesSubplot at 0x1d36b0be780>"
      ]
     },
     "execution_count": 13,
     "metadata": {},
     "output_type": "execute_result"
    },
    {
     "data": {
      "image/png": "[encoded data removed]",
      "text/plain": [
       "<Figure size 432x288 with 1 Axes>"
      ]
     },
     "metadata": {
      "needs_background": "light"
     },
     "output_type": "display_data"
    }
   ],
   "source": [
    "LGA.plot.line(x='Rings',y='Annual change in Count')"
   ]
  },
  {
   "cell_type": "code",
   "execution_count": 20,
   "metadata": {},
   "outputs": [
    {
     "data": {
      "text/plain": [
       "<matplotlib.axes._subplots.AxesSubplot at 0x1d36b70eb00>"
      ]
     },
     "execution_count": 20,
     "metadata": {},
     "output_type": "execute_result"
    },
    {
     "data": {
      "image/png": "[encoded data removed]",
      "text/plain": [
       "<Figure size 432x288 with 1 Axes>"
      ]
     },
     "metadata": {
      "needs_background": "light"
     },
     "output_type": "display_data"
    }
   ],
   "source": [
    "LGA.plot.line(x='DwellingType', y='Sales\\nNo.')"
   ]
  },
  {
   "cell_type": "code",
   "execution_count": 31,
   "metadata": {},
   "outputs": [
    {
     "ename": "KeyError",
     "evalue": "\"None of [Index(['Total', 'Total', 'Total', 'Albury', 'Albury', 'Albury',\\n       'Armidale Regional', 'Armidale Regional', 'Armidale Regional',\\n       'Ballina',\\n       ...\\n       'Warrumbungle Shire', 'Weddin', 'Weddin', 'Wentworth', 'Wentworth',\\n       'Wingecarribee', 'Wingecarribee', 'Wingecarribee', 'Yass Valley',\\n       'Yass Valley'],\\n      dtype='object', length=2747)] are in the [columns]\"",
     "output_type": "error",
     "traceback": [
      "\u001b[1;31m---------------------------------------------------------------------------\u001b[0m",
      "\u001b[1;31mKeyError\u001b[0m                                  Traceback (most recent call last)",
      "\u001b[1;32m<ipython-input-31-c323bc831bc0>\u001b[0m in \u001b[0;36m<module>\u001b[1;34m\u001b[0m\n\u001b[0;32m      2\u001b[0m \u001b[1;31m#y = LGA['Median Sales Price\\n$\\'000s']\u001b[0m\u001b[1;33m\u001b[0m\u001b[1;33m\u001b[0m\u001b[1;33m\u001b[0m\u001b[0m\n\u001b[0;32m      3\u001b[0m \u001b[1;31m#LGA.plot.line(x=x, y=y)\u001b[0m\u001b[1;33m\u001b[0m\u001b[1;33m\u001b[0m\u001b[1;33m\u001b[0m\u001b[0m\n\u001b[1;32m----> 4\u001b[1;33m \u001b[0mLGA\u001b[0m\u001b[1;33m.\u001b[0m\u001b[0mplot\u001b[0m\u001b[1;33m.\u001b[0m\u001b[0mline\u001b[0m\u001b[1;33m(\u001b[0m\u001b[0mLGA\u001b[0m\u001b[1;33m[\u001b[0m\u001b[1;34m'Local Government Areas (LGAs)'\u001b[0m\u001b[1;33m]\u001b[0m\u001b[1;33m,\u001b[0m \u001b[0mLGA\u001b[0m\u001b[1;33m[\u001b[0m\u001b[1;34m'Median Sales Price\\n$\\'000s'\u001b[0m\u001b[1;33m]\u001b[0m\u001b[1;33m)\u001b[0m\u001b[1;33m\u001b[0m\u001b[1;33m\u001b[0m\u001b[0m\n\u001b[0m",
      "\u001b[1;32m~\\Anaconda3\\lib\\site-packages\\pandas\\plotting\\_core.py\u001b[0m in \u001b[0;36mline\u001b[1;34m(self, x, y, **kwds)\u001b[0m\n\u001b[0;32m   3004\u001b[0m             \u001b[1;33m>>\u001b[0m\u001b[1;33m>\u001b[0m \u001b[0mlines\u001b[0m \u001b[1;33m=\u001b[0m \u001b[0mdf\u001b[0m\u001b[1;33m.\u001b[0m\u001b[0mplot\u001b[0m\u001b[1;33m.\u001b[0m\u001b[0mline\u001b[0m\u001b[1;33m(\u001b[0m\u001b[0mx\u001b[0m\u001b[1;33m=\u001b[0m\u001b[1;34m'pig'\u001b[0m\u001b[1;33m,\u001b[0m \u001b[0my\u001b[0m\u001b[1;33m=\u001b[0m\u001b[1;34m'horse'\u001b[0m\u001b[1;33m)\u001b[0m\u001b[1;33m\u001b[0m\u001b[1;33m\u001b[0m\u001b[0m\n\u001b[0;32m   3005\u001b[0m         \"\"\"\n\u001b[1;32m-> 3006\u001b[1;33m         \u001b[1;32mreturn\u001b[0m \u001b[0mself\u001b[0m\u001b[1;33m(\u001b[0m\u001b[0mkind\u001b[0m\u001b[1;33m=\u001b[0m\u001b[1;34m'line'\u001b[0m\u001b[1;33m,\u001b[0m \u001b[0mx\u001b[0m\u001b[1;33m=\u001b[0m\u001b[0mx\u001b[0m\u001b[1;33m,\u001b[0m \u001b[0my\u001b[0m\u001b[1;33m=\u001b[0m\u001b[0my\u001b[0m\u001b[1;33m,\u001b[0m \u001b[1;33m**\u001b[0m\u001b[0mkwds\u001b[0m\u001b[1;33m)\u001b[0m\u001b[1;33m\u001b[0m\u001b[1;33m\u001b[0m\u001b[0m\n\u001b[0m\u001b[0;32m   3007\u001b[0m \u001b[1;33m\u001b[0m\u001b[0m\n\u001b[0;32m   3008\u001b[0m     \u001b[1;32mdef\u001b[0m \u001b[0mbar\u001b[0m\u001b[1;33m(\u001b[0m\u001b[0mself\u001b[0m\u001b[1;33m,\u001b[0m \u001b[0mx\u001b[0m\u001b[1;33m=\u001b[0m\u001b[1;32mNone\u001b[0m\u001b[1;33m,\u001b[0m \u001b[0my\u001b[0m\u001b[1;33m=\u001b[0m\u001b[1;32mNone\u001b[0m\u001b[1;33m,\u001b[0m \u001b[1;33m**\u001b[0m\u001b[0mkwds\u001b[0m\u001b[1;33m)\u001b[0m\u001b[1;33m:\u001b[0m\u001b[1;33m\u001b[0m\u001b[1;33m\u001b[0m\u001b[0m\n",
      "\u001b[1;32m~\\Anaconda3\\lib\\site-packages\\pandas\\plotting\\_core.py\u001b[0m in \u001b[0;36m__call__\u001b[1;34m(self, x, y, kind, ax, subplots, sharex, sharey, layout, figsize, use_index, title, grid, legend, style, logx, logy, loglog, xticks, yticks, xlim, ylim, rot, fontsize, colormap, table, yerr, xerr, secondary_y, sort_columns, **kwds)\u001b[0m\n\u001b[0;32m   2940\u001b[0m                           \u001b[0mfontsize\u001b[0m\u001b[1;33m=\u001b[0m\u001b[0mfontsize\u001b[0m\u001b[1;33m,\u001b[0m \u001b[0mcolormap\u001b[0m\u001b[1;33m=\u001b[0m\u001b[0mcolormap\u001b[0m\u001b[1;33m,\u001b[0m \u001b[0mtable\u001b[0m\u001b[1;33m=\u001b[0m\u001b[0mtable\u001b[0m\u001b[1;33m,\u001b[0m\u001b[1;33m\u001b[0m\u001b[1;33m\u001b[0m\u001b[0m\n\u001b[0;32m   2941\u001b[0m                           \u001b[0myerr\u001b[0m\u001b[1;33m=\u001b[0m\u001b[0myerr\u001b[0m\u001b[1;33m,\u001b[0m \u001b[0mxerr\u001b[0m\u001b[1;33m=\u001b[0m\u001b[0mxerr\u001b[0m\u001b[1;33m,\u001b[0m \u001b[0msecondary_y\u001b[0m\u001b[1;33m=\u001b[0m\u001b[0msecondary_y\u001b[0m\u001b[1;33m,\u001b[0m\u001b[1;33m\u001b[0m\u001b[1;33m\u001b[0m\u001b[0m\n\u001b[1;32m-> 2942\u001b[1;33m                           sort_columns=sort_columns, **kwds)\n\u001b[0m\u001b[0;32m   2943\u001b[0m     \u001b[0m__call__\u001b[0m\u001b[1;33m.\u001b[0m\u001b[0m__doc__\u001b[0m \u001b[1;33m=\u001b[0m \u001b[0mplot_frame\u001b[0m\u001b[1;33m.\u001b[0m\u001b[0m__doc__\u001b[0m\u001b[1;33m\u001b[0m\u001b[1;33m\u001b[0m\u001b[0m\n\u001b[0;32m   2944\u001b[0m \u001b[1;33m\u001b[0m\u001b[0m\n",
      "\u001b[1;32m~\\Anaconda3\\lib\\site-packages\\pandas\\plotting\\_core.py\u001b[0m in \u001b[0;36mplot_frame\u001b[1;34m(data, x, y, kind, ax, subplots, sharex, sharey, layout, figsize, use_index, title, grid, legend, style, logx, logy, loglog, xticks, yticks, xlim, ylim, rot, fontsize, colormap, table, yerr, xerr, secondary_y, sort_columns, **kwds)\u001b[0m\n\u001b[0;32m   1971\u001b[0m                  \u001b[0myerr\u001b[0m\u001b[1;33m=\u001b[0m\u001b[0myerr\u001b[0m\u001b[1;33m,\u001b[0m \u001b[0mxerr\u001b[0m\u001b[1;33m=\u001b[0m\u001b[0mxerr\u001b[0m\u001b[1;33m,\u001b[0m\u001b[1;33m\u001b[0m\u001b[1;33m\u001b[0m\u001b[0m\n\u001b[0;32m   1972\u001b[0m                  \u001b[0msecondary_y\u001b[0m\u001b[1;33m=\u001b[0m\u001b[0msecondary_y\u001b[0m\u001b[1;33m,\u001b[0m \u001b[0msort_columns\u001b[0m\u001b[1;33m=\u001b[0m\u001b[0msort_columns\u001b[0m\u001b[1;33m,\u001b[0m\u001b[1;33m\u001b[0m\u001b[1;33m\u001b[0m\u001b[0m\n\u001b[1;32m-> 1973\u001b[1;33m                  **kwds)\n\u001b[0m\u001b[0;32m   1974\u001b[0m \u001b[1;33m\u001b[0m\u001b[0m\n\u001b[0;32m   1975\u001b[0m \u001b[1;33m\u001b[0m\u001b[0m\n",
      "\u001b[1;32m~\\Anaconda3\\lib\\site-packages\\pandas\\plotting\\_core.py\u001b[0m in \u001b[0;36m_plot\u001b[1;34m(data, x, y, subplots, ax, kind, **kwds)\u001b[0m\n\u001b[0;32m   1761\u001b[0m                 \u001b[1;32mif\u001b[0m \u001b[0mis_integer\u001b[0m\u001b[1;33m(\u001b[0m\u001b[0mx\u001b[0m\u001b[1;33m)\u001b[0m \u001b[1;32mand\u001b[0m \u001b[1;32mnot\u001b[0m \u001b[0mdata\u001b[0m\u001b[1;33m.\u001b[0m\u001b[0mcolumns\u001b[0m\u001b[1;33m.\u001b[0m\u001b[0mholds_integer\u001b[0m\u001b[1;33m(\u001b[0m\u001b[1;33m)\u001b[0m\u001b[1;33m:\u001b[0m\u001b[1;33m\u001b[0m\u001b[1;33m\u001b[0m\u001b[0m\n\u001b[0;32m   1762\u001b[0m                     \u001b[0mx\u001b[0m \u001b[1;33m=\u001b[0m \u001b[0mdata_cols\u001b[0m\u001b[1;33m[\u001b[0m\u001b[0mx\u001b[0m\u001b[1;33m]\u001b[0m\u001b[1;33m\u001b[0m\u001b[1;33m\u001b[0m\u001b[0m\n\u001b[1;32m-> 1763\u001b[1;33m                 \u001b[1;32melif\u001b[0m \u001b[1;32mnot\u001b[0m \u001b[0misinstance\u001b[0m\u001b[1;33m(\u001b[0m\u001b[0mdata\u001b[0m\u001b[1;33m[\u001b[0m\u001b[0mx\u001b[0m\u001b[1;33m]\u001b[0m\u001b[1;33m,\u001b[0m \u001b[0mABCSeries\u001b[0m\u001b[1;33m)\u001b[0m\u001b[1;33m:\u001b[0m\u001b[1;33m\u001b[0m\u001b[1;33m\u001b[0m\u001b[0m\n\u001b[0m\u001b[0;32m   1764\u001b[0m                     \u001b[1;32mraise\u001b[0m \u001b[0mValueError\u001b[0m\u001b[1;33m(\u001b[0m\u001b[1;34m\"x must be a label or position\"\u001b[0m\u001b[1;33m)\u001b[0m\u001b[1;33m\u001b[0m\u001b[1;33m\u001b[0m\u001b[0m\n\u001b[0;32m   1765\u001b[0m                 \u001b[0mdata\u001b[0m \u001b[1;33m=\u001b[0m \u001b[0mdata\u001b[0m\u001b[1;33m.\u001b[0m\u001b[0mset_index\u001b[0m\u001b[1;33m(\u001b[0m\u001b[0mx\u001b[0m\u001b[1;33m)\u001b[0m\u001b[1;33m\u001b[0m\u001b[1;33m\u001b[0m\u001b[0m\n",
      "\u001b[1;32m~\\Anaconda3\\lib\\site-packages\\pandas\\core\\frame.py\u001b[0m in \u001b[0;36m__getitem__\u001b[1;34m(self, key)\u001b[0m\n\u001b[0;32m   2932\u001b[0m                 \u001b[0mkey\u001b[0m \u001b[1;33m=\u001b[0m \u001b[0mlist\u001b[0m\u001b[1;33m(\u001b[0m\u001b[0mkey\u001b[0m\u001b[1;33m)\u001b[0m\u001b[1;33m\u001b[0m\u001b[1;33m\u001b[0m\u001b[0m\n\u001b[0;32m   2933\u001b[0m             indexer = self.loc._convert_to_indexer(key, axis=1,\n\u001b[1;32m-> 2934\u001b[1;33m                                                    raise_missing=True)\n\u001b[0m\u001b[0;32m   2935\u001b[0m \u001b[1;33m\u001b[0m\u001b[0m\n\u001b[0;32m   2936\u001b[0m         \u001b[1;31m# take() does not accept boolean indexers\u001b[0m\u001b[1;33m\u001b[0m\u001b[1;33m\u001b[0m\u001b[1;33m\u001b[0m\u001b[0m\n",
      "\u001b[1;32m~\\Anaconda3\\lib\\site-packages\\pandas\\core\\indexing.py\u001b[0m in \u001b[0;36m_convert_to_indexer\u001b[1;34m(self, obj, axis, is_setter, raise_missing)\u001b[0m\n\u001b[0;32m   1352\u001b[0m                 kwargs = {'raise_missing': True if is_setter else\n\u001b[0;32m   1353\u001b[0m                           raise_missing}\n\u001b[1;32m-> 1354\u001b[1;33m                 \u001b[1;32mreturn\u001b[0m \u001b[0mself\u001b[0m\u001b[1;33m.\u001b[0m\u001b[0m_get_listlike_indexer\u001b[0m\u001b[1;33m(\u001b[0m\u001b[0mobj\u001b[0m\u001b[1;33m,\u001b[0m \u001b[0maxis\u001b[0m\u001b[1;33m,\u001b[0m \u001b[1;33m**\u001b[0m\u001b[0mkwargs\u001b[0m\u001b[1;33m)\u001b[0m\u001b[1;33m[\u001b[0m\u001b[1;36m1\u001b[0m\u001b[1;33m]\u001b[0m\u001b[1;33m\u001b[0m\u001b[1;33m\u001b[0m\u001b[0m\n\u001b[0m\u001b[0;32m   1355\u001b[0m         \u001b[1;32melse\u001b[0m\u001b[1;33m:\u001b[0m\u001b[1;33m\u001b[0m\u001b[1;33m\u001b[0m\u001b[0m\n\u001b[0;32m   1356\u001b[0m             \u001b[1;32mtry\u001b[0m\u001b[1;33m:\u001b[0m\u001b[1;33m\u001b[0m\u001b[1;33m\u001b[0m\u001b[0m\n",
      "\u001b[1;32m~\\Anaconda3\\lib\\site-packages\\pandas\\core\\indexing.py\u001b[0m in \u001b[0;36m_get_listlike_indexer\u001b[1;34m(self, key, axis, raise_missing)\u001b[0m\n\u001b[0;32m   1159\u001b[0m         self._validate_read_indexer(keyarr, indexer,\n\u001b[0;32m   1160\u001b[0m                                     \u001b[0mo\u001b[0m\u001b[1;33m.\u001b[0m\u001b[0m_get_axis_number\u001b[0m\u001b[1;33m(\u001b[0m\u001b[0maxis\u001b[0m\u001b[1;33m)\u001b[0m\u001b[1;33m,\u001b[0m\u001b[1;33m\u001b[0m\u001b[1;33m\u001b[0m\u001b[0m\n\u001b[1;32m-> 1161\u001b[1;33m                                     raise_missing=raise_missing)\n\u001b[0m\u001b[0;32m   1162\u001b[0m         \u001b[1;32mreturn\u001b[0m \u001b[0mkeyarr\u001b[0m\u001b[1;33m,\u001b[0m \u001b[0mindexer\u001b[0m\u001b[1;33m\u001b[0m\u001b[1;33m\u001b[0m\u001b[0m\n\u001b[0;32m   1163\u001b[0m \u001b[1;33m\u001b[0m\u001b[0m\n",
      "\u001b[1;32m~\\Anaconda3\\lib\\site-packages\\pandas\\core\\indexing.py\u001b[0m in \u001b[0;36m_validate_read_indexer\u001b[1;34m(self, key, indexer, axis, raise_missing)\u001b[0m\n\u001b[0;32m   1244\u001b[0m                 raise KeyError(\n\u001b[0;32m   1245\u001b[0m                     u\"None of [{key}] are in the [{axis}]\".format(\n\u001b[1;32m-> 1246\u001b[1;33m                         key=key, axis=self.obj._get_axis_name(axis)))\n\u001b[0m\u001b[0;32m   1247\u001b[0m \u001b[1;33m\u001b[0m\u001b[0m\n\u001b[0;32m   1248\u001b[0m             \u001b[1;31m# We (temporarily) allow for some missing keys with .loc, except in\u001b[0m\u001b[1;33m\u001b[0m\u001b[1;33m\u001b[0m\u001b[1;33m\u001b[0m\u001b[0m\n",
      "\u001b[1;31mKeyError\u001b[0m: \"None of [Index(['Total', 'Total', 'Total', 'Albury', 'Albury', 'Albury',\\n       'Armidale Regional', 'Armidale Regional', 'Armidale Regional',\\n       'Ballina',\\n       ...\\n       'Warrumbungle Shire', 'Weddin', 'Weddin', 'Wentworth', 'Wentworth',\\n       'Wingecarribee', 'Wingecarribee', 'Wingecarribee', 'Yass Valley',\\n       'Yass Valley'],\\n      dtype='object', length=2747)] are in the [columns]\""
     ]
    }
   ],
   "source": [
    "#x = LGA['Local Government Areas (LGAs)']\n",
    "#y = LGA['Median Sales Price\\n$\\'000s']\n",
    "#LGA.plot.line(x=x, y=y)\n",
    "#LGA.plot.line(LGA['Local Government Areas (LGAs)'], LGA['Median Sales Price\\n$\\'000s'])\n",
    "#LGA.plot.line(x='Local Government Areas (LGAs)', y='Median')"
   ]
  },
  {
   "cell_type": "code",
   "execution_count": null,
   "metadata": {},
   "outputs": [],
   "source": [
    "postcode.head(10)"
   ]
  },
  {
   "cell_type": "code",
   "execution_count": null,
   "metadata": {},
   "outputs": [],
   "source": []
  },
  {
   "cell_type": "code",
   "execution_count": 11,
   "metadata": {},
   "outputs": [
    {
     "data": {
      "text/plain": [
       "Postcode                               int64\n",
       "Dwelling Type                         object\n",
       "First Quartile Sales Price\\n$'000s    object\n",
       "Median Sales Price\\n$'000s            object\n",
       "Third Quartile Sales Price\\n'000s     object\n",
       "Mean Sales Price\\n$'000s              object\n",
       "Sales\\nNo.                            object\n",
       "Qtly change in Median                 object\n",
       "Annual change in Median               object\n",
       "Qtly change in Count                  object\n",
       "Annual change in Count                object\n",
       "dtype: object"
      ]
     },
     "execution_count": 11,
     "metadata": {},
     "output_type": "execute_result"
    }
   ],
   "source": [
    "postcode.dtypes"
   ]
  },
  {
   "cell_type": "code",
   "execution_count": null,
   "metadata": {},
   "outputs": [],
   "source": []
  },
  {
   "cell_type": "code",
   "execution_count": null,
   "metadata": {},
   "outputs": [],
   "source": []
  }
 ],
 "metadata": {
  "kernelspec": {
   "display_name": "Python 3",
   "language": "python",
   "name": "python3"
  },
  "language_info": {
   "codemirror_mode": {
    "name": "ipython",
    "version": 3
   },
   "file_extension": ".py",
   "mimetype": "text/x-python",
   "name": "python",
   "nbconvert_exporter": "python",
   "pygments_lexer": "ipython3",
   "version": "3.7.3"
  }
 },
 "nbformat": 4,
 "nbformat_minor": 2
}
